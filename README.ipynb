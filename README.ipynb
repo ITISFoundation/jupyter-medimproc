{
 "cells": [
  {
   "attachments": {},
   "cell_type": "markdown",
   "id": "67bb6fe5-38a1-472e-bf7c-9a300da42cb7",
   "metadata": {},
   "source": [
    "# Before starting\n",
    "\n",
    "#### Directories and usage\n",
    "To use the [dakota](https://dakota.sandia.gov/) library, simply open a new terminal and run the desired `dakota` command. You can also run the same command inside a jupyter notebook with `!dakota your_input`. If you need inputs/outputs from/to other services and/or you want to save files generated from your run, please read the following to know where files should be placed.\n",
    "\n",
    "#### Directories and usage:\n",
    "* **You are here:** `~/work/workspace` this is the current directory when the JupyterLab is opened and where you should save your files. \n",
    "\n",
    "* **Inputs from upstream services:** `~/work/inputs` (equivalent to `/home/jovyan/work/inputs`) contains inputs incoming from the outputs of the previous node. *Warning: do not write files in this directory or they will be erased.*\n",
    "\n",
    "* **This service's Outputs:** the contents of `~/work/outputs/outputs_1`, `~/work/outputs/outputs_2`, `~/work/outputs/outputs_3` and `~/work/outputs/outputs_4` will be accessible to connected downstream nodes. *Warning: do not add files into `~/work/outputs` base directory or they will be erased.*\n",
    "\n",
    "#### Good Practices\n",
    "* **Return to Dashboard often:** data are versioned ONLY when you have saved the file in JupyterLab AND after you return to the Dashboard from your study. We advise you to go back to the Dashboard often to avoid losing work.*\n",
    "* **I don't see `inputs` or `outputs`:** `~/work/` (one folder up from the current directory) is where you can find the `inputs` and `outputs` directories. Write access to this folder has been disabled. You can only create files and directories in:\n",
    "  * `~/work/workspace`\n",
    "  * `~/work/outputs/outputs_1`\n",
    "  * `~/work/outputs/outputs_2`\n",
    "  * `~/work/outputs/outputs_3`\n",
    "  * `~/work/outputs/outputs_4`\n",
    "* **Do  not write files directly to outputs:** if your code generates files, we recommend writing them first to a temporary directory (e.g. in `~/work/workspace`) and then moving them to the desired `~/work/outputs/output_X` directory after completion. Otherwise, data synchronisation may start while the file is being written to, which may result in a corrupted file in output.\n",
    "\n",
    "#### Dependency installation\n",
    "**To correctly install a python dependency,** for example `numpy`, in a new code cell inside the notebook use the following\n",
    "```python\n",
    "import sys\n",
    "!{sys.executable} -m pip install numpy\n",
    "```\n",
    "For more details see [Installing Python Packages from a Jupyter Notebook](https://jakevdp.github.io/blog/2017/12/05/installing-python-packages-from-jupyter/#How-to-use-Pip-from-the-Jupyter-Notebook).\n",
    "\n",
    "#### Voila mode\n",
    "\n",
    "This notebook supports boot as voila mode. To start a notebook as voila, set the `JupyterLab` to Boot in `Voila` in the platform\n",
    "* Inside the Jupyterlab: make sure to create a notebook called `voila.ipynb` in the `~/work/workspace/` directory.\n",
    "* Go to the Dashboard and select the Study's settings (3-dot button) \n",
    "* Choose \"More Settings\"\n",
    "* Choose \"Boot Mode\" tab on left (play button) \n",
    " After changing these settings, the notebook will no longer start as JupyterLab but as Voila. To learn more about Voila, see here: https://github.com/voila-dashboards/voila\n",
    "\n",
    "#### Octave Kernel\n",
    "\n",
    "This kernel can run cells in both octave and python but, please note that **variables are not shared across different kernels**. Nonetheless there are alternatives\n",
    "to share data between kernels like the magic command [``%store``](https://www.blopig.com/blog/2020/05/storing-variables-in-jupyter-notebooks-using-store-magic/). For more details see [#301](https://github.com/ITISFoundation/osparc-issues/issues/301).\n",
    "\n",
    "#### Have an issue?\n",
    "\n",
    "Please open an issue on GitLab at [ITISFoundation/jupyter-dakota/issues](https://github.com/ITISFoundation/jupyter-dakota/issues)"
   ]
  }
 ],
 "metadata": {
  "kernelspec": {
   "display_name": "Python 3",
   "language": "python",
   "name": "python3"
  },
  "language_info": {
   "name": "python",
   "version": "3.9.5 (default, Nov 23 2021, 15:27:38) \n[GCC 9.3.0]"
  },
  "vscode": {
   "interpreter": {
    "hash": "36cf16204b8548560b1c020c4e8fb5b57f0e4c58016f52f2d4be01e192833930"
   }
  }
 },
 "nbformat": 4,
 "nbformat_minor": 5
}
